{
  "nbformat": 4,
  "nbformat_minor": 0,
  "metadata": {
    "colab": {
      "provenance": []
    },
    "kernelspec": {
      "name": "python3",
      "display_name": "Python 3"
    },
    "language_info": {
      "name": "python"
    }
  },
  "cells": [
    {
      "cell_type": "code",
      "execution_count": null,
      "metadata": {
        "id": "msrHRLflNhot"
      },
      "outputs": [],
      "source": [
        "# Q1. List Operations\n",
        "\n",
        "L = [11, 12, 13, 14]\n",
        "\n",
        "# (i)\n",
        "L.append(50)\n",
        "L.append(60)\n",
        "\n",
        "# (ii)\n",
        "L.remove(11)\n",
        "L.remove(13)\n",
        "\n",
        "# (iii)\n",
        "L.sort()\n",
        "\n",
        "# (iv)\n",
        "L.sort(reverse=True)\n",
        "\n",
        "# (v)\n",
        "element_found = 13 in L\n",
        "\n",
        "# (vi)\n",
        "count_elements = len(L)\n",
        "\n",
        "# (vii)\n",
        "sum_elements = sum(L)\n",
        "\n",
        "# (viii)\n",
        "sum_odd = sum(x for x in L if x % 2 != 0)\n",
        "\n",
        "# (ix)\n",
        "sum_even = sum(x for x in L if x % 2 == 0)\n",
        "\n",
        "# (x)\n",
        "def is_prime(n):\n",
        "    if n <= 1:\n",
        "        return False\n",
        "    for i in range(2, int(n**0.5) + 1):\n",
        "        if n % i == 0:\n",
        "            return False\n",
        "    return True\n",
        "\n",
        "sum_prime = sum(x for x in L if is_prime(x))\n",
        "\n",
        "# (xi)\n",
        "L.clear()\n",
        "\n",
        "# (xii)\n",
        "del L\n"
      ]
    },
    {
      "cell_type": "code",
      "source": [],
      "metadata": {
        "id": "3bLCZuI66VuB"
      },
      "execution_count": null,
      "outputs": []
    },
    {
      "cell_type": "code",
      "source": [
        "D = {1: 5.6, 2: 7.8, 3: 6.6, 4: 8.7, 5: 7.7}\n",
        "\n",
        "# (i)\n",
        "D[8] = 8.8\n",
        "\n",
        "# (ii)\n",
        "del D[2]\n",
        "\n",
        "# (iii)\n",
        "key_present = 6 in D\n",
        "\n",
        "# (iv)\n",
        "count_elements = len(D)\n",
        "\n",
        "# (v)\n",
        "sum_values = sum(D.values())\n",
        "\n",
        "# (vi)\n",
        "D[3] = 7.1\n",
        "\n",
        "# (vii)\n",
        "D.clear()\n"
      ],
      "metadata": {
        "id": "CsTsDAvpN7Fp"
      },
      "execution_count": null,
      "outputs": []
    },
    {
      "cell_type": "code",
      "source": [
        "S1 = {10, 20, 30, 40, 50, 60}\n",
        "S2 = {40, 50, 60, 70, 80, 90}\n",
        "\n",
        "# (i)\n",
        "S1.update([55, 66])\n",
        "\n",
        "# (ii)\n",
        "S1.discard(10)\n",
        "S1.discard(30)\n",
        "\n",
        "# (iii)\n",
        "is_present = 40 in S1\n",
        "\n",
        "# (iv)\n",
        "union_set = S1.union(S2)\n",
        "\n",
        "# (v)\n",
        "intersection_set = S1.intersection(S2)\n",
        "\n",
        "# (vi)\n",
        "difference_set = S1.difference(S2)\n"
      ],
      "metadata": {
        "id": "H8V6L--mOXHL"
      },
      "execution_count": null,
      "outputs": []
    },
    {
      "cell_type": "code",
      "source": [
        "import random\n",
        "import string\n",
        "\n",
        "# (i)\n",
        "random_strings = [''.join(random.choices(string.ascii_letters, k=random.randint(6, 8))) for _ in range(100)]\n",
        "print(random_strings)\n",
        "\n",
        "# (ii)\n",
        "def is_prime(n):\n",
        "    if n <= 1:\n",
        "        return False\n",
        "    for i in range(2, int(n**0.5) + 1):\n",
        "        if n % i == 0:\n",
        "            return False\n",
        "    return True\n",
        "\n",
        "primes_600_800 = [x for x in range(600, 801) if is_prime(x)]\n",
        "print(primes_600_800)\n",
        "\n",
        "# (iii)\n",
        "divisible_by_7_and_9 = [x for x in range(100, 1001) if x % 7 == 0 and x % 9 == 0]\n",
        "print(divisible_by_7_and_9)\n"
      ],
      "metadata": {
        "id": "WmhW7lsaOZRW"
      },
      "execution_count": null,
      "outputs": []
    },
    {
      "cell_type": "code",
      "source": [
        "import random\n",
        "\n",
        "list1 = [random.randint(10, 30) for _ in range(10)]\n",
        "list2 = [random.randint(10, 30) for _ in range(10)]\n",
        "\n",
        "# (i)\n",
        "common_numbers = set(list1).intersection(list2)\n",
        "\n",
        "# (ii)\n",
        "unique_numbers = set(list1).symmetric_difference(list2)\n",
        "\n",
        "# (iii)\n",
        "min_list1 = min(list1)\n",
        "min_list2 = min(list2)\n",
        "\n",
        "# (iv)\n",
        "max_list1 = max(list1)\n",
        "max_list2 = max(list2)\n",
        "\n",
        "# (v)\n",
        "sum_lists = sum(list1) + sum(list2)\n"
      ],
      "metadata": {
        "id": "l_Z6DE-EOfuT"
      },
      "execution_count": null,
      "outputs": []
    },
    {
      "cell_type": "code",
      "source": [
        "import random\n",
        "\n",
        "numbers = [random.randint(100, 900) for _ in range(100)]\n",
        "\n",
        "# (i)\n",
        "odd_numbers = [x for x in numbers if x % 2 != 0]\n",
        "\n",
        "# (ii)\n",
        "even_numbers = [x for x in numbers if x % 2 == 0]\n",
        "\n",
        "# (iii)\n",
        "primes = [x for x in numbers if is_prime(x)]\n"
      ],
      "metadata": {
        "id": "IwiEnhnyOh-X"
      },
      "execution_count": null,
      "outputs": []
    },
    {
      "cell_type": "code",
      "source": [
        "D = {1: \"One\", 2: \"Two\", 3: \"Three\", 4: \"Four\", 5: \"Five\"}\n",
        "\n",
        "with open('dictionary_output.txt', 'w') as file:\n",
        "    for key, value in D.items():\n",
        "        file.write(f\"{key}, {value}\\n\")\n"
      ],
      "metadata": {
        "id": "ExHKNnsJOkNF"
      },
      "execution_count": null,
      "outputs": []
    },
    {
      "cell_type": "code",
      "source": [],
      "metadata": {
        "id": "n3Oa0vxdOxYD"
      },
      "execution_count": null,
      "outputs": []
    },
    {
      "cell_type": "code",
      "source": [
        "L = [\"One\", \"Two\", \"Three\", \"Four\", \"Five\"]\n",
        "\n",
        "with open('list_output.txt', 'w') as file:\n",
        "    for item in L:\n",
        "        file.write(f\"{item}, {len(item)}\\n\")\n"
      ],
      "metadata": {
        "id": "OLG9-NkmOo0N"
      },
      "execution_count": null,
      "outputs": []
    },
    {
      "cell_type": "code",
      "source": [
        "random_strings = [''.join(random.choices(string.ascii_letters, k=random.randint(10, 15))) for _ in range(100)]\n",
        "\n",
        "with open('random_strings.txt', 'w') as file:\n",
        "    for item in random_strings:\n",
        "        file.write(f\"{item}\\n\")\n"
      ],
      "metadata": {
        "id": "d8ltrDbfOteu"
      },
      "execution_count": null,
      "outputs": []
    },
    {
      "cell_type": "code",
      "source": [
        "primes_600_800 = [x for x in range(600, 801) if is_prime(x)]\n",
        "\n",
        "with open('primes_600_800.txt', 'w') as file:\n",
        "    for prime in primes_600_800:\n",
        "        file.write(f\"{prime}\\n\")\n"
      ],
      "metadata": {
        "id": "EN138l0FOv8w"
      },
      "execution_count": null,
      "outputs": []
    },
    {
      "cell_type": "code",
      "source": [
        "import time\n",
        "\n",
        "start_time = time.time()\n",
        "\n",
        "# Your program logic here\n",
        "\n",
        "end_time = time.time()\n",
        "time_taken = end_time - start_time\n",
        "print(f\"Time taken: {time_taken} seconds\")\n"
      ],
      "metadata": {
        "id": "6RoOVRHlOyJe"
      },
      "execution_count": null,
      "outputs": []
    },
    {
      "cell_type": "code",
      "source": [
        "import time\n",
        "import matplotlib.pyplot as plt\n",
        "\n",
        "times = []\n",
        "sizes = [5000, 10000, 15000, 20000, 25000]\n",
        "\n",
        "for size in sizes:\n",
        "    random_list = [random.randint(1, 100000) for _ in range(size)]\n",
        "    start_time = time.time()\n",
        "    random_list.sort()\n",
        "    end_time = time.time()\n",
        "    times.append(end_time - start_time)\n",
        "\n",
        "plt.plot(sizes, times)\n",
        "plt.xlabel('Number of elements')\n",
        "plt.ylabel('Time taken (seconds)')\n",
        "plt.title('Sorting Time Complexity')\n",
        "plt.show()\n"
      ],
      "metadata": {
        "id": "CAWolKJEO0dx"
      },
      "execution_count": null,
      "outputs": []
    },
    {
      "cell_type": "code",
      "source": [
        "students_marks = {\n",
        "    'student1': [88, 92, 85, 91, 87],\n",
        "    'student2': [78, 85, 80, 79, 83],\n",
        "    'student3': [90, 95, 93, 89, 94],\n",
        "    'student4': [70, 68, 72, 74, 71]\n",
        "}\n",
        "\n",
        "average_marks = {student: sum(marks) / len(marks) for student, marks in students_marks.items()}\n",
        "\n",
        "max_avg_student = max(average_marks, key=average_marks.get)\n",
        "min_avg_student = min(average_marks, key=average_marks.get)\n",
        "\n",
        "print(f\"Student with max average marks: {max_avg_student}\")\n",
        "print(f\"Student with min average marks: {min_avg_student}\")\n"
      ],
      "metadata": {
        "id": "70DYmmfgO24x"
      },
      "execution_count": null,
      "outputs": []
    },
    {
      "cell_type": "code",
      "source": [
        "#Write a python program to sort the list of heterogeneous data.\n",
        "#e.g.\n",
        "#L = [\"Ram\", 1, \"Shyam\", 2, \"Aman\", 3]\n",
        "#print(L)\n",
        "#L.sort()\n",
        "#print(L)\n",
        "# Above code gives error. Correct it."
      ],
      "metadata": {
        "colab": {
          "base_uri": "https://localhost:8080/",
          "height": 126
        },
        "id": "c_FJPMrm6XPt",
        "outputId": "545baf6d-191a-4431-e515-908a56cf221f"
      },
      "execution_count": 1,
      "outputs": [
        {
          "output_type": "error",
          "ename": "SyntaxError",
          "evalue": "invalid syntax (<ipython-input-1-84a8328e9413>, line 2)",
          "traceback": [
            "\u001b[0;36m  File \u001b[0;32m\"<ipython-input-1-84a8328e9413>\"\u001b[0;36m, line \u001b[0;32m2\u001b[0m\n\u001b[0;31m    e.g.\u001b[0m\n\u001b[0m        ^\u001b[0m\n\u001b[0;31mSyntaxError\u001b[0m\u001b[0;31m:\u001b[0m invalid syntax\n"
          ]
        }
      ]
    },
    {
      "cell_type": "code",
      "source": [
        "L = [\"Ram\", \"1\", \"Shyam\", \"2\",\"Aman\", \"3\"]\n",
        "print(L)\n",
        "L.sort()\n",
        "print (L)"
      ],
      "metadata": {
        "colab": {
          "base_uri": "https://localhost:8080/"
        },
        "id": "XrjhyLm_6dR_",
        "outputId": "2a8929d3-1cfb-4113-9272-cedad7936c21"
      },
      "execution_count": 7,
      "outputs": [
        {
          "output_type": "stream",
          "name": "stdout",
          "text": [
            "['Ram', '1', 'Shyam', '2', 'Aman', '3']\n",
            "['1', '2', '3', 'Aman', 'Ram', 'Shyam']\n"
          ]
        }
      ]
    },
    {
      "cell_type": "code",
      "source": [
        "def custom_sort_key(value):\n",
        "    # Convert numbers to strings for comparison\n",
        "    if isinstance(value, (int, float)):\n",
        "        return str(value)\n",
        "    return value\n",
        "\n",
        "# Example list of heterogeneous data\n",
        "L = [\"Ram\", 1, \"Shyam\", 2, \"Aman\", 3]\n",
        "\n",
        "# Sort the list using the custom sort key\n",
        "L.sort(key=custom_sort_key)\n",
        "\n",
        "print(\"Sorted list:\", L)\n"
      ],
      "metadata": {
        "colab": {
          "base_uri": "https://localhost:8080/"
        },
        "id": "EBMyfycG7YUx",
        "outputId": "4b5086f7-f668-4c99-bad7-96b1038fd709"
      },
      "execution_count": 8,
      "outputs": [
        {
          "output_type": "stream",
          "name": "stdout",
          "text": [
            "Sorted list: [1, 2, 3, 'Aman', 'Ram', 'Shyam']\n"
          ]
        }
      ]
    }
  ]
}